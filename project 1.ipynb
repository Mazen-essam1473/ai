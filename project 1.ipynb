{
 "cells": [
  {
   "cell_type": "code",
   "execution_count": 4,
   "metadata": {},
   "outputs": [
    {
     "name": "stdout",
     "output_type": "stream",
     "text": [
      "successfully created the directory C:\\Users\\Mazen\\Desktop\\ai/Task1\n",
      "successfully created the directory C:\\Users\\Mazen\\Desktop\\ai/Task2\n",
      "successfully created the directory C:\\Users\\Mazen\\Desktop\\ai/Task3\n",
      "successfully created the directory C:\\Users\\Mazen\\Desktop\\ai/Task4\n",
      "successfully created the directory C:\\Users\\Mazen\\Desktop\\ai/Task5\n",
      "successfully created the directory C:\\Users\\Mazen\\Desktop\\ai/Task6\n",
      "successfully created the directory C:\\Users\\Mazen\\Desktop\\ai/Task7\n",
      "successfully created the directory C:\\Users\\Mazen\\Desktop\\ai/Task8\n",
      "successfully created the directory C:\\Users\\Mazen\\Desktop\\ai/Task9\n",
      "successfully created the directory C:\\Users\\Mazen\\Desktop\\ai/Task10\n",
      "successfully created the directory C:\\Users\\Mazen\\Desktop\\ai/Task11\n",
      "successfully created the directory C:\\Users\\Mazen\\Desktop\\ai/Task12\n",
      "successfully created the directory C:\\Users\\Mazen\\Desktop\\ai/Task13\n",
      "successfully created the directory C:\\Users\\Mazen\\Desktop\\ai/Task14\n",
      "successfully created the directory C:\\Users\\Mazen\\Desktop\\ai/Task15\n",
      "successfully created the directory C:\\Users\\Mazen\\Desktop\\ai/Task16\n",
      "successfully created the directory C:\\Users\\Mazen\\Desktop\\ai/Task17\n",
      "successfully created the directory C:\\Users\\Mazen\\Desktop\\ai/Task18\n",
      "successfully created the directory C:\\Users\\Mazen\\Desktop\\ai/Task19\n",
      "successfully created the directory C:\\Users\\Mazen\\Desktop\\ai/Task20\n",
      "successfully created the directory C:\\Users\\Mazen\\Desktop\\ai/Task21\n",
      "successfully created the directory C:\\Users\\Mazen\\Desktop\\ai/Task22\n",
      "successfully created the directory C:\\Users\\Mazen\\Desktop\\ai/Task23\n",
      "successfully created the directory C:\\Users\\Mazen\\Desktop\\ai/Task24\n",
      "successfully created the directory C:\\Users\\Mazen\\Desktop\\ai/Task25\n",
      "successfully created the directory C:\\Users\\Mazen\\Desktop\\ai/Task26\n",
      "successfully created the directory C:\\Users\\Mazen\\Desktop\\ai/Task27\n",
      "successfully created the directory C:\\Users\\Mazen\\Desktop\\ai/Task28\n",
      "successfully created the directory C:\\Users\\Mazen\\Desktop\\ai/Task29\n",
      "successfully created the directory C:\\Users\\Mazen\\Desktop\\ai/Task30\n"
     ]
    }
   ],
   "source": [
    "import os \n",
    "path = os.getcwd()\n",
    "for  i in range(1,31):\n",
    "    try:\n",
    "        newpath= path+\"/Task\" + str(i)\n",
    "        os.mkdir(newpath)\n",
    "    except OSError:\n",
    "        print(\"Creation os the directory %s failed\" % newpath)\n",
    "    else :\n",
    "        print(\"successfully created the directory %s\" %newpath)"
   ]
  },
  {
   "cell_type": "code",
   "execution_count": null,
   "metadata": {},
   "outputs": [],
   "source": []
  }
 ],
 "metadata": {
  "kernelspec": {
   "display_name": "Python 3",
   "language": "python",
   "name": "python3"
  },
  "language_info": {
   "codemirror_mode": {
    "name": "ipython",
    "version": 3
   },
   "file_extension": ".py",
   "mimetype": "text/x-python",
   "name": "python",
   "nbconvert_exporter": "python",
   "pygments_lexer": "ipython3",
   "version": "3.8.5"
  }
 },
 "nbformat": 4,
 "nbformat_minor": 4
}
